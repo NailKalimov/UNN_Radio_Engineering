{
 "cells": [
  {
   "attachments": {
    "image.png": {
     "image/png": "[encoded data removed]"
    }
   },
   "cell_type": "markdown",
   "metadata": {},
   "source": [
    "# Модуляция\n",
    "![image.png](attachment:image.png)"
   ]
  },
  {
   "cell_type": "code",
   "execution_count": 1,
   "metadata": {
    "scrolled": false
   },
   "outputs": [
    {
     "name": "stderr",
     "output_type": "stream",
     "text": [
      "C:\\ProgramData\\Anaconda3\\lib\\site-packages\\ipykernel_launcher.py:13: DeprecationWarning: This function is deprecated. Please call randint(0, 1 + 1) instead\n",
      "  del sys.path[0]\n"
     ]
    }
   ],
   "source": [
    "from numpy import(linspace)\n",
    "import numpy as np\n",
    "import math \n",
    "import matplotlib.pyplot as plt\n",
    "from matplotlib.pyplot import (plot, yscale, scatter)\n",
    "from scipy import signal\n",
    "from scipy.special import erf\n",
    "import time\n",
    "\n",
    "STNR=0# Уровень шума в Дб\n",
    "stnr=0# Уровень шума в разах\n",
    "n=10000# Колличество бит в посылке\n",
    "X=np.random.random_integers(0,1,n)# Создаем массив данных\n",
    "X1=np.zeros(n)\n",
    "number_of_points=20 #колличество точек на 1 символ\n",
    "S = np.zeros(n*number_of_points) # Для модулированного сигнала\n",
    "S1 = np.zeros(n*number_of_points)# Для демодулированного сигнала\n",
    "elementary_signal_period=3 #колличество периодов на 1 символ\n",
    "carrier_frequency=1 #множитель частоты\n",
    "k1 = elementary_signal_period/(number_of_points)\n",
    "X2=np.zeros(n, dtype = int)\n",
    "fails=0\n",
    "a=0\n",
    "\n",
    "for i in range(n):\n",
    "    if X[i]==0:\n",
    "        X1[i]=-1\n",
    "    else:\n",
    "        X1[i]=1\n",
    "for i in range(n):\n",
    "    for t in range(number_of_points):\n",
    "        S[i*number_of_points+t] = (X1[i]*math.sin(2*math.pi*carrier_frequency*t*k1))\n",
    "\n",
    "E0=0\n",
    "for i in range(number_of_points):\n",
    "    E0+=S[i]*S[i]\n",
    "\n",
    "# print(\"Eb=\",E0)\n",
    "# N=math.sqrt(E0/(2*10**(STNR/10)))\n",
    "# print(\"N= \", N)\n",
    "# print(S)\n",
    "# plt.plot(S)\n",
    "# plt.show()"
   ]
  },
  {
   "cell_type": "code",
   "execution_count": 2,
   "metadata": {},
   "outputs": [],
   "source": [
    "def phi(x):# Функция для расчета вероятности ошибок \n",
    "    return((math.erfc(x / math.sqrt(2.0)))/ 2.0)\n",
    "def BPSK(local_STNR):\n",
    "    global S\n",
    "    for i in range(n):\n",
    "        if X[i]==0:\n",
    "            X1[i]=-1\n",
    "        else:\n",
    "            X1[i]=1\n",
    "    for i in range(n):\n",
    "        for t in range(number_of_points):\n",
    "            S[i*number_of_points+t] = (X1[i]*math.sin(2*math.pi*carrier_frequency*t*k1))\n",
    "    N=math.sqrt(E0/(2*10**(local_STNR/10)))\n",
    "    noise = np.random.normal(0,N,S.size)\n",
    "    S+=noise\n",
    "    for i in range(S.size):\n",
    "        S1[i]=S[i]*(-1)*math.sin(2*math.pi*carrier_frequency*i*k1) \n",
    "    for i in range(n):\n",
    "        a=0\n",
    "        for j in range(number_of_points):\n",
    "            a+=S1[j+number_of_points*i]\n",
    "        X2[i]=int(a)\n",
    "        if X2[i]<0:\n",
    "            X2[i]=1\n",
    "        else:\n",
    "            X2[i]=0\n",
    "    fails=0\n",
    "    for i in range(X.size):\n",
    "        if X[i]!=X2[i]:\n",
    "            fails+=1\n",
    "    return(fails/n)\n",
    "#     start = time.monotonic()\n",
    "#     end = time.monotonic()\n",
    "#     print(end-start)"
   ]
  },
  {
   "cell_type": "markdown",
   "metadata": {},
   "source": [
    "# Добавление шума"
   ]
  },
  {
   "cell_type": "code",
   "execution_count": 3,
   "metadata": {},
   "outputs": [],
   "source": [
    "# noise = np.random.normal(0,N,S.size)\n",
    "# S+=noise\n",
    "\n",
    "# plt.plot(noise)\n",
    "# plt.show()\n",
    "# print(\"Дисперсия шума: \",np.var(noise))# Дисперсия шума\n",
    "# print(phi(math.sqrt(2*E0/(np.var(noise)))))"
   ]
  },
  {
   "cell_type": "markdown",
   "metadata": {},
   "source": [
    "# Демодуляция"
   ]
  },
  {
   "cell_type": "code",
   "execution_count": 4,
   "metadata": {
    "scrolled": false
   },
   "outputs": [],
   "source": [
    "# for i in range(S.size):\n",
    "#     S1=np.append(S1, S[i]*(-1)*math.sin(2*math.pi*carrier_frequency*i*k1))\n",
    "# plt.plot(S1)\n",
    "# plt.grid()\n",
    "# plt.show()\n",
    "# plt.plot(freq, abs(np.fft.fft(S1)))\n",
    "# plt.grid()\n",
    "# plt.show()"
   ]
  },
  {
   "cell_type": "markdown",
   "metadata": {},
   "source": [
    "# Декодирование"
   ]
  },
  {
   "cell_type": "code",
   "execution_count": 5,
   "metadata": {
    "scrolled": false
   },
   "outputs": [],
   "source": [
    "# for i in range(n):\n",
    "#     a=0\n",
    "#     for j in range(number_of_points):\n",
    "#         a+=S1[j+number_of_points*i]\n",
    "#     X2[i]=int(a)\n",
    "#     if X2[i]<0:\n",
    "#         X2[i]=1\n",
    "#     else:\n",
    "#         X2[i]=0\n",
    "# print(\"Принято \",X2.size)"
   ]
  },
  {
   "cell_type": "markdown",
   "metadata": {},
   "source": [
    "# Проверка на ошибки"
   ]
  },
  {
   "cell_type": "code",
   "execution_count": 6,
   "metadata": {
    "scrolled": false
   },
   "outputs": [],
   "source": [
    "# for i in range(X.size):\n",
    "#     if X[i]!=X2[i]:\n",
    "#         fails+=1\n",
    "# print(fails,\"ошибок\")\n",
    "# print(\"Теоретическая вероятность ошибки: \", phi(math.sqrt(E0/(N*N))))\n",
    "# print(\"Практическая вероятность ошибки: \", fails/n)"
   ]
  },
  {
   "cell_type": "code",
   "execution_count": 7,
   "metadata": {
    "scrolled": false
   },
   "outputs": [
    {
     "name": "stdout",
     "output_type": "stream",
     "text": [
      "0.2132280183576204 0.2155\n",
      "0.18611381748338907 0.1845\n",
      "0.15836831880959792 0.1613\n",
      "0.13064448852282923 0.131\n",
      "0.10375909595340632 0.1029\n",
      "0.07864960352514255 0.0791\n",
      "0.05628195197654146 0.0612\n",
      "0.03750612835892598 0.0378\n",
      "0.022878407561085338 0.0255\n",
      "0.012500818040737565 0.0148\n",
      "0.0059538671477786615 0.0073\n",
      "0.002388290780932807 0.003\n",
      "0.0007726748153784444 0.0012900000000000001\n",
      "0.00019090777407599314 0.00033499999999999996\n",
      "3.362722841961758e-05 9.500000000000002e-05\n",
      "последний 3.872108215522049e-06 1.266666666666666e-05\n"
     ]
    },
    {
     "data": {
      "text/plain": [
       "[<matplotlib.lines.Line2D at 0x24b7ad62c50>]"
      ]
     },
     "execution_count": 7,
     "metadata": {},
     "output_type": "execute_result"
    },
    {
     "data": {
      "image/png": "[encoded data removed]",
      "text/plain": [
       "<Figure size 432x288 with 1 Axes>"
      ]
     },
     "metadata": {
      "needs_background": "light"
     },
     "output_type": "display_data"
    }
   ],
   "source": [
    "mass_STNR_theor = np.array([])\n",
    "mass_STNR_pract = np.array([])\n",
    "for STNR in range (12):\n",
    "    stnr=10**((STNR-5)/10)# Считаю ОСШ в разах для функции ошибок \n",
    "    mass_STNR_theor=np.append(mass_STNR_theor, phi(math.sqrt(2*stnr)))# Теория\n",
    "    mass_STNR_pract=np.append(mass_STNR_pract, BPSK(STNR-5))# Практика; STNR-это ОСШ в Дб\n",
    "    print(mass_STNR_theor[STNR], mass_STNR_pract[STNR])\n",
    "for STNR in range (12,15,1):\n",
    "    a=0\n",
    "    for j in range (20):\n",
    "        a+=BPSK(STNR-5)\n",
    "    stnr=10**((STNR-5)/10)# Считаю ОСШ в разах для функции ошибок\n",
    "    mass_STNR_theor=np.append(mass_STNR_theor, phi(math.sqrt(2*stnr)))# Теория\n",
    "    mass_STNR_pract=np.append(mass_STNR_pract, a/20)\n",
    "    print(mass_STNR_theor[STNR], mass_STNR_pract[STNR])\n",
    "a=0\n",
    "for j in range (500):\n",
    "    a+=BPSK(10)\n",
    "stnr=10**((10)/10)\n",
    "mass_STNR_theor=np.append(mass_STNR_theor, phi(math.sqrt(2*stnr)))# Теория\n",
    "mass_STNR_pract=np.append(mass_STNR_pract, a/500)\n",
    "print(\"последний\", mass_STNR_theor[15], mass_STNR_pract[15])\n",
    "\n",
    "x=linspace(-5,10,16)\n",
    "yscale('log')\n",
    "plot(x, mass_STNR_theor)\n",
    "plot(x, mass_STNR_pract)"
   ]
  }
 ],
 "metadata": {
  "kernelspec": {
   "display_name": "Python 3",
   "language": "python",
   "name": "python3"
  },
  "language_info": {
   "codemirror_mode": {
    "name": "ipython",
    "version": 3
   },
   "file_extension": ".py",
   "mimetype": "text/x-python",
   "name": "python",
   "nbconvert_exporter": "python",
   "pygments_lexer": "ipython3",
   "version": "3.7.0"
  }
 },
 "nbformat": 4,
 "nbformat_minor": 2
}
